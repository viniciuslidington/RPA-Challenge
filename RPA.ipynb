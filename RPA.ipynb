{
 "cells": [
  {
   "cell_type": "code",
   "execution_count": 73,
   "id": "d98132e0-4014-415c-98ff-81def4e10a5d",
   "metadata": {},
   "outputs": [],
   "source": [
    "from selenium import webdriver\n",
    "from selenium.webdriver.common.by import By\n",
    "import pandas as pd\n",
    "import time\n",
    "\n",
    "navegador = webdriver.Chrome()\n",
    "navegador.get(\"https://www.rpachallenge.com/\")\n",
    "time.sleep(1)\n",
    "navegador.find_element(\"xpath\",\"/html/body/app-root/div[2]/app-rpa1/div/div[1]/div[6]/a\").click()\n",
    "time.sleep(1)\n",
    "navegador.find_element(\"xpath\",\"/html/body/app-root/div[2]/app-rpa1/div/div[1]/div[6]/button\").click()\n",
    "\n",
    "tabela = pd.read_excel(\"challenge.xlsx\")\n"
   ]
  },
  {
   "cell_type": "code",
   "execution_count": 74,
   "id": "42804525-d6a7-4903-a6f9-612f0e87e6d5",
   "metadata": {
    "scrolled": true
   },
   "outputs": [],
   "source": [
    "#loop para capturar as informações da tabela\n",
    "for i, first_name in enumerate(tabela['First Name']):\n",
    "    last_name = tabela.loc[i, 'Last Name ']\n",
    "    company_name = tabela.loc[i, 'Company Name']\n",
    "    role = tabela.loc[i, 'Role in Company']\n",
    "    address = tabela.loc[i, 'Address']\n",
    "    email = tabela.loc[i, 'Email']\n",
    "    phone_number = tabela.loc[i, 'Phone Number']\n",
    "\n",
    "    #Company Name\n",
    "    navegador.find_element(By.CSS_SELECTOR, '[ng-reflect-name=\"labelCompanyName\"]').send_keys(company_name)\n",
    "    #Phone Number\n",
    "    navegador.find_element(By.CSS_SELECTOR, '[ng-reflect-name=\"labelPhone\"]').send_keys(str(phone_number))\n",
    "    #Email\n",
    "    navegador.find_element(By.CSS_SELECTOR, '[ng-reflect-name=\"labelEmail\"]').send_keys(email)\n",
    "    #Role in Company\n",
    "    navegador.find_element(By.CSS_SELECTOR, '[ng-reflect-name=\"labelRole\"]').send_keys(role)\n",
    "    #Last Name\n",
    "    navegador.find_element(By.CSS_SELECTOR, '[ng-reflect-name=\"labelLastName\"]').send_keys(last_name)\n",
    "    #Address\n",
    "    navegador.find_element(By.CSS_SELECTOR, '[ng-reflect-name=\"labelAddress\"]').send_keys(address)\n",
    "    #First Name\n",
    "    navegador.find_element(By.CSS_SELECTOR, '[ng-reflect-name=\"labelFirstName\"]').send_keys(first_name)\n",
    "    #Enviar formulário\n",
    "    navegador.find_element(By.XPATH, '/html/body/app-root/div[2]/app-rpa1/div/div[2]/form/input').click()"
   ]
  }
 ],
 "metadata": {
  "kernelspec": {
   "display_name": "Python 3 (ipykernel)",
   "language": "python",
   "name": "python3"
  },
  "language_info": {
   "codemirror_mode": {
    "name": "ipython",
    "version": 3
   },
   "file_extension": ".py",
   "mimetype": "text/x-python",
   "name": "python",
   "nbconvert_exporter": "python",
   "pygments_lexer": "ipython3",
   "version": "3.11.7"
  }
 },
 "nbformat": 4,
 "nbformat_minor": 5
}
